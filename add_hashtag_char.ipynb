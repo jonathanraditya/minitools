{
 "cells": [
  {
   "attachments": {},
   "cell_type": "markdown",
   "id": "5e1f1767-3612-40b2-8ec7-37fbe9fcfcf9",
   "metadata": {},
   "source": [
    "# Add Hashtag Char\n",
    "Input: a collection of `word`\n",
    "\n",
    "Output: a collection of `hashtag + word`\n",
    "\n",
    "**Example**\n",
    "\n",
    "Input: `\"background, beautiful, beauty, bloom, blossom, bright\"`\n",
    "\n",
    "Output: `\"#background #beautiful #beauty #bloom #blossom #bright\"`"
   ]
  },
  {
   "cell_type": "code",
   "execution_count": 202,
   "id": "c7d10167-11f2-4fbe-a752-d77346e020d5",
   "metadata": {},
   "outputs": [
    {
     "name": "stdout",
     "output_type": "stream",
     "text": [
      "#Frame #Border #wall #Cafe #Frame #Border #texture #pattern #abstract #background #backdrop #pattern #wall #background #Office #pattern #InARow #NoPeople #style #grunge #color #Heat #Temperature #Learning #color #pattern #NoPeople #art #texture #Organic #wall #decorative\n"
     ]
    }
   ],
   "source": [
    "import random\n",
    "\n",
    "c = 29 # Instagram only allow 30 hashtags on a single post/comment.\n",
    "\n",
    "# change this\n",
    "i = '''\n",
    "background, art, color, abstract, yellow, design, bright, pattern, grunge, modern, texture, illustration, wallpaper, artistic, colorful, backdrop, red, paint, black, wall, concept, graphic, decorative, style, old,\n",
    "\n",
    "Still Life,Composition,Knolling - Concept,Copy Space,Frame - Border,Learning,Heat - Temperature,Retro Style,No People,In A Row,Coffee - Drink,Apple - Fruit,On Top Of,Office,Backgrounds,Table,Organic,Cafe,Distressed - Photographic Effect,Nature,Drink\n",
    "\n",
    "\n",
    "'''\n",
    "\n",
    "o = i.replace(' ','').replace('\\n','').split(',')\n",
    "o = random.choices(o, k=c)\n",
    "o = \"#\" + ' #'.join(o)\n",
    "o = o.replace('-',' #')\n",
    "\n",
    "print(o)\n",
    "# if __name__ == '__main__':"
   ]
  },
  {
   "cell_type": "code",
   "execution_count": null,
   "id": "d5e24cca-1b76-4b66-99cd-e62ff9e92f43",
   "metadata": {},
   "outputs": [],
   "source": []
  }
 ],
 "metadata": {
  "kernelspec": {
   "display_name": "Python 3 (ipykernel)",
   "language": "python",
   "name": "python3"
  },
  "language_info": {
   "codemirror_mode": {
    "name": "ipython",
    "version": 3
   },
   "file_extension": ".py",
   "mimetype": "text/x-python",
   "name": "python",
   "nbconvert_exporter": "python",
   "pygments_lexer": "ipython3",
   "version": "3.11.6"
  }
 },
 "nbformat": 4,
 "nbformat_minor": 5
}
